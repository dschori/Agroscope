{
 "cells": [
  {
   "cell_type": "code",
   "execution_count": 1,
   "metadata": {},
   "outputs": [],
   "source": [
    "%load_ext autoreload\n",
    "\n",
    "%autoreload 2"
   ]
  },
  {
   "cell_type": "code",
   "execution_count": 2,
   "metadata": {},
   "outputs": [
    {
     "name": "stderr",
     "output_type": "stream",
     "text": [
      "Using TensorFlow backend.\n"
     ]
    }
   ],
   "source": [
    "import math\n",
    "from sklearn.metrics import classification_report\n",
    "import matplotlib.pyplot as plt\n",
    "from matplotlib.pyplot import imshow, imread, imsave, figure\n",
    "import pandas as pd\n",
    "import numpy as np\n",
    "import os\n",
    "import sys\n",
    "from skimage.color import rgb2gray\n",
    "from skimage.transform import rescale, resize\n",
    "\n",
    "\n",
    "#Keras:\n",
    "import keras\n",
    "from keras.preprocessing.image import ImageDataGenerator\n",
    "from keras.callbacks import LearningRateScheduler\n",
    "from keras.optimizers import SGD\n",
    "from keras.models import *\n",
    "from keras.layers import *\n",
    "from keras.optimizers import *\n",
    "from keras.callbacks import ModelCheckpoint, LearningRateScheduler\n",
    "\n",
    "#Custom Functions:\n",
    "ROOT_DIR = os.path.abspath(\"../\")\n",
    "sys.path.append(ROOT_DIR)\n",
    "\n",
    "from imports.utils.log_progress import log_progress\n",
    "from imports.utils.visualization import Visualize, Evaluate\n",
    "from imports.utils.enums import DATA_BASE_PATH, SHAPE\n",
    "from imports.models.u_net import get_unet\n",
    "from imports.utils.utils import rle_encode, rle_decode\n",
    "\n",
    "DATA_IMAGE_PATH = DATA_BASE_PATH + '/Images'\n",
    "DATA_MASK_PATH = DATA_BASE_PATH + '/Masks'"
   ]
  },
  {
   "cell_type": "code",
   "execution_count": 3,
   "metadata": {},
   "outputs": [],
   "source": [
    "import warnings\n",
    "warnings.filterwarnings(\"ignore\")"
   ]
  },
  {
   "cell_type": "code",
   "execution_count": 4,
   "metadata": {},
   "outputs": [
    {
     "name": "stdout",
     "output_type": "stream",
     "text": [
      "Number of training Samples: 354\n",
      "Number of validation Samples: 102\n",
      "Number of test Samples: 51\n"
     ]
    }
   ],
   "source": [
    "train_df = pd.read_pickle(DATA_BASE_PATH+'/train_df')\n",
    "val_df = pd.read_pickle(DATA_BASE_PATH+'/val_df')\n",
    "test_df = pd.read_pickle(DATA_BASE_PATH+'/test_df')\n",
    "\n",
    "print(\"Number of training Samples:\", len(train_df))\n",
    "print(\"Number of validation Samples:\", len(val_df))\n",
    "print(\"Number of test Samples:\", len(test_df))"
   ]
  },
  {
   "cell_type": "markdown",
   "metadata": {},
   "source": [
    "#### Models:\n",
    "\n",
    "| Model | Description | Filename |\n",
    "|:------|------|--|\n",
    "|   UNet_Mask  | Unet- Model trained on Handlabeled Mask-Data 'train_df'| unet1024_60epochs.h5 |\n",
    "|   UNet_Circle  | Unet- Model trained on Handlabeled Mask-Data 'train_df'| - |"
   ]
  },
  {
   "cell_type": "code",
   "execution_count": 6,
   "metadata": {},
   "outputs": [],
   "source": [
    "from imports.models.losses import bce_dice_loss, dice_coeff, iou\n",
    "from keras.models import load_model, model_from_json\n",
    "\n",
    "import keras.losses\n",
    "keras.losses.custom_loss = bce_dice_loss\n",
    "\n",
    "model = load_model('../saved_models/unet/rgb_512_786_seperate_outputs/unet_dice_0.8199_iou_0.9352.h5', custom_objects={'bce_dice_loss': bce_dice_loss,'dice_coeff':dice_coeff,'iou':iou})"
   ]
  },
  {
   "cell_type": "markdown",
   "metadata": {},
   "source": [
    "### 1. Unet_Mask:"
   ]
  },
  {
   "cell_type": "code",
   "execution_count": 48,
   "metadata": {},
   "outputs": [],
   "source": [
    "ev_params = {'df':train_df,\n",
    "             'input_shape':(512,768,3),\n",
    "             'pred_layer' : 1,\n",
    "             'model':model}\n",
    "ev = Evaluate(**ev_params)"
   ]
  },
  {
   "cell_type": "markdown",
   "metadata": {},
   "source": [
    "#### 1.1 Dice Coeff:"
   ]
  },
  {
   "cell_type": "code",
   "execution_count": 18,
   "metadata": {},
   "outputs": [
    {
     "data": {
      "application/vnd.jupyter.widget-view+json": {
       "model_id": "fc8e2fec2f36402b999af0a4d349a223",
       "version_major": 2,
       "version_minor": 0
      },
      "text/plain": [
       "VBox(children=(HTML(value=''), IntProgress(value=0, max=51)))"
      ]
     },
     "metadata": {},
     "output_type": "display_data"
    },
    {
     "name": "stdout",
     "output_type": "stream",
     "text": [
      "Average prediction time: 0.40 s\n"
     ]
    }
   ],
   "source": [
    "unet_mask_dice_min, unet_mask_dice_max, unet_mask_dice_avg = ev.get_dice_coeff(mode='simple')"
   ]
  },
  {
   "cell_type": "code",
   "execution_count": 22,
   "metadata": {},
   "outputs": [
    {
     "data": {
      "text/plain": [
       "0.77673237193956612"
      ]
     },
     "execution_count": 22,
     "metadata": {},
     "output_type": "execute_result"
    }
   ],
   "source": [
    "unet_mask_dice_avg"
   ]
  },
  {
   "cell_type": "code",
   "execution_count": null,
   "metadata": {},
   "outputs": [],
   "source": [
    "imgs = np.array[]"
   ]
  },
  {
   "cell_type": "code",
   "execution_count": 49,
   "metadata": {
    "scrolled": false
   },
   "outputs": [
    {
     "data": {
      "application/vnd.jupyter.widget-view+json": {
       "model_id": "36c33d6c969446398f61f56082a392cf",
       "version_major": 2,
       "version_minor": 0
      },
      "text/plain": [
       "VBox(children=(HTML(value=''), IntProgress(value=0, max=354)))"
      ]
     },
     "metadata": {},
     "output_type": "display_data"
    },
    {
     "name": "stdout",
     "output_type": "stream",
     "text": [
      "Thresh\tTP\tFP\tFN\tPrec.\n",
      "0.500\t0\t2\t4\t0.000\n",
      "0.550\t0\t2\t4\t0.000\n",
      "0.600\t0\t2\t4\t0.000\n",
      "0.650\t0\t2\t4\t0.000\n",
      "0.700\t0\t2\t4\t0.000\n",
      "0.750\t0\t2\t4\t0.000\n",
      "0.800\t0\t2\t4\t0.000\n",
      "0.850\t0\t2\t4\t0.000\n",
      "0.900\t0\t2\t4\t0.000\n",
      "0.950\t0\t2\t4\t0.000\n",
      "AP\t-\t-\t-\t0.000\n",
      "0.0\n",
      "Thresh\tTP\tFP\tFN\tPrec.\n",
      "0.500\t4\t7\t3\t0.286\n",
      "0.550\t3\t8\t4\t0.200\n",
      "0.600\t2\t9\t5\t0.125\n",
      "0.650\t2\t9\t5\t0.125\n",
      "0.700\t1\t10\t6\t0.059\n",
      "0.750\t0\t11\t7\t0.000\n",
      "0.800\t0\t11\t7\t0.000\n",
      "0.850\t0\t11\t7\t0.000\n",
      "0.900\t0\t11\t7\t0.000\n",
      "0.950\t0\t11\t7\t0.000\n",
      "AP\t-\t-\t-\t0.079\n",
      "0.125\n",
      "Thresh\tTP\tFP\tFN\tPrec.\n",
      "0.500\t10\t17\t11\t0.263\n",
      "0.550\t9\t18\t12\t0.231\n",
      "0.600\t5\t22\t16\t0.116\n",
      "0.650\t5\t22\t16\t0.116\n",
      "0.700\t5\t22\t16\t0.116\n",
      "0.750\t4\t23\t17\t0.091\n",
      "0.800\t1\t26\t20\t0.021\n",
      "0.850\t0\t27\t21\t0.000\n",
      "0.900\t0\t27\t21\t0.000\n",
      "0.950\t0\t27\t21\t0.000\n",
      "AP\t-\t-\t-\t0.095\n",
      "0.116279069767\n",
      "Thresh\tTP\tFP\tFN\tPrec.\n",
      "0.500\t7\t3\t1\t0.636\n",
      "0.550\t7\t3\t1\t0.636\n",
      "0.600\t7\t3\t1\t0.636\n",
      "0.650\t7\t3\t1\t0.636\n",
      "0.700\t7\t3\t1\t0.636\n",
      "0.750\t5\t5\t3\t0.385\n",
      "0.800\t5\t5\t3\t0.385\n",
      "0.850\t3\t7\t5\t0.200\n",
      "0.900\t2\t8\t6\t0.125\n",
      "0.950\t0\t10\t8\t0.000\n",
      "AP\t-\t-\t-\t0.428\n",
      "0.636363636364\n",
      "Thresh\tTP\tFP\tFN\tPrec.\n",
      "0.500\t3\t3\t2\t0.375\n",
      "0.550\t3\t3\t2\t0.375\n",
      "0.600\t3\t3\t2\t0.375\n",
      "0.650\t3\t3\t2\t0.375\n",
      "0.700\t2\t4\t3\t0.222\n",
      "0.750\t2\t4\t3\t0.222\n",
      "0.800\t2\t4\t3\t0.222\n",
      "0.850\t1\t5\t4\t0.100\n",
      "0.900\t1\t5\t4\t0.100\n",
      "0.950\t0\t6\t5\t0.000\n",
      "AP\t-\t-\t-\t0.237\n",
      "0.375\n",
      "Thresh\tTP\tFP\tFN\tPrec.\n",
      "0.500\t5\t0\t0\t1.000\n",
      "0.550\t5\t0\t0\t1.000\n",
      "0.600\t5\t0\t0\t1.000\n",
      "0.650\t5\t0\t0\t1.000\n",
      "0.700\t5\t0\t0\t1.000\n",
      "0.750\t4\t1\t1\t0.667\n",
      "0.800\t4\t1\t1\t0.667\n",
      "0.850\t3\t2\t2\t0.429\n",
      "0.900\t1\t4\t4\t0.111\n",
      "0.950\t0\t5\t5\t0.000\n",
      "AP\t-\t-\t-\t0.687\n",
      "1.0\n",
      "Thresh\tTP\tFP\tFN\tPrec.\n",
      "0.500\t2\t3\t1\t0.333\n",
      "0.550\t2\t3\t1\t0.333\n",
      "0.600\t2\t3\t1\t0.333\n",
      "0.650\t2\t3\t1\t0.333\n",
      "0.700\t1\t4\t2\t0.143\n",
      "0.750\t1\t4\t2\t0.143\n",
      "0.800\t1\t4\t2\t0.143\n",
      "0.850\t1\t4\t2\t0.143\n",
      "0.900\t0\t5\t3\t0.000\n",
      "0.950\t0\t5\t3\t0.000\n",
      "AP\t-\t-\t-\t0.190\n",
      "0.333333333333\n",
      "Thresh\tTP\tFP\tFN\tPrec.\n",
      "0.500\t3\t3\t3\t0.333\n",
      "0.550\t2\t4\t4\t0.200\n",
      "0.600\t1\t5\t5\t0.091\n",
      "0.650\t1\t5\t5\t0.091\n",
      "0.700\t1\t5\t5\t0.091\n",
      "0.750\t1\t5\t5\t0.091\n",
      "0.800\t1\t5\t5\t0.091\n",
      "0.850\t1\t5\t5\t0.091\n",
      "0.900\t1\t5\t5\t0.091\n",
      "0.950\t0\t6\t6\t0.000\n",
      "AP\t-\t-\t-\t0.117\n",
      "0.0909090909091\n",
      "Thresh\tTP\tFP\tFN\tPrec.\n",
      "0.500\t3\t1\t1\t0.600\n",
      "0.550\t3\t1\t1\t0.600\n",
      "0.600\t2\t2\t2\t0.333\n",
      "0.650\t2\t2\t2\t0.333\n",
      "0.700\t2\t2\t2\t0.333\n",
      "0.750\t1\t3\t3\t0.143\n",
      "0.800\t1\t3\t3\t0.143\n",
      "0.850\t0\t4\t4\t0.000\n",
      "0.900\t0\t4\t4\t0.000\n",
      "0.950\t0\t4\t4\t0.000\n",
      "AP\t-\t-\t-\t0.249\n",
      "0.333333333333\n",
      "Thresh\tTP\tFP\tFN\tPrec.\n",
      "0.500\t2\t4\t1\t0.286\n",
      "0.550\t2\t4\t1\t0.286\n",
      "0.600\t2\t4\t1\t0.286\n",
      "0.650\t2\t4\t1\t0.286\n",
      "0.700\t2\t4\t1\t0.286\n",
      "0.750\t2\t4\t1\t0.286\n",
      "0.800\t1\t5\t2\t0.125\n",
      "0.850\t1\t5\t2\t0.125\n",
      "0.900\t1\t5\t2\t0.125\n",
      "0.950\t0\t6\t3\t0.000\n",
      "AP\t-\t-\t-\t0.209\n",
      "0.285714285714\n",
      "Thresh\tTP\tFP\tFN\tPrec.\n",
      "0.500\t1\t1\t1\t0.333\n",
      "0.550\t1\t1\t1\t0.333\n",
      "0.600\t1\t1\t1\t0.333\n",
      "0.650\t1\t1\t1\t0.333\n",
      "0.700\t1\t1\t1\t0.333\n",
      "0.750\t0\t2\t2\t0.000\n",
      "0.800\t0\t2\t2\t0.000\n",
      "0.850\t0\t2\t2\t0.000\n",
      "0.900\t0\t2\t2\t0.000\n",
      "0.950\t0\t2\t2\t0.000\n",
      "AP\t-\t-\t-\t0.167\n",
      "0.333333333333\n",
      "Thresh\tTP\tFP\tFN\tPrec.\n",
      "0.500\t2\t10\t11\t0.087\n",
      "0.550\t2\t10\t11\t0.087\n",
      "0.600\t2\t10\t11\t0.087\n",
      "0.650\t2\t10\t11\t0.087\n",
      "0.700\t1\t11\t12\t0.042\n",
      "0.750\t0\t12\t13\t0.000\n",
      "0.800\t0\t12\t13\t0.000\n",
      "0.850\t0\t12\t13\t0.000\n",
      "0.900\t0\t12\t13\t0.000\n",
      "0.950\t0\t12\t13\t0.000\n",
      "AP\t-\t-\t-\t0.039\n",
      "0.0869565217391\n"
     ]
    },
    {
     "ename": "KeyboardInterrupt",
     "evalue": "",
     "output_type": "error",
     "traceback": [
      "\u001b[0;31m---------------------------------------------------------------------------\u001b[0m",
      "\u001b[0;31mKeyboardInterrupt\u001b[0m                         Traceback (most recent call last)",
      "\u001b[0;32m<ipython-input-49-73e4fcc98308>\u001b[0m in \u001b[0;36m<module>\u001b[0;34m\u001b[0m\n\u001b[0;32m----> 1\u001b[0;31m \u001b[0m_\u001b[0m \u001b[0;34m=\u001b[0m \u001b[0mev\u001b[0m\u001b[0;34m.\u001b[0m\u001b[0mmean_average_precicion\u001b[0m\u001b[0;34m(\u001b[0m\u001b[0;34m)\u001b[0m\u001b[0;34m\u001b[0m\u001b[0;34m\u001b[0m\u001b[0m\n\u001b[0m",
      "\u001b[0;32m~/work/Agroscope/imports/utils/visualization.py\u001b[0m in \u001b[0;36mmean_average_precicion\u001b[0;34m(self, threshold)\u001b[0m\n\u001b[1;32m    203\u001b[0m         \u001b[0;32mfor\u001b[0m \u001b[0mi\u001b[0m \u001b[0;32min\u001b[0m \u001b[0mlog_progress\u001b[0m\u001b[0;34m(\u001b[0m\u001b[0mrange\u001b[0m\u001b[0;34m(\u001b[0m\u001b[0mlen\u001b[0m\u001b[0;34m(\u001b[0m\u001b[0mself\u001b[0m\u001b[0;34m.\u001b[0m\u001b[0mdf\u001b[0m\u001b[0;34m)\u001b[0m\u001b[0;34m)\u001b[0m\u001b[0;34m)\u001b[0m\u001b[0;34m:\u001b[0m\u001b[0;34m\u001b[0m\u001b[0;34m\u001b[0m\u001b[0m\n\u001b[1;32m    204\u001b[0m             \u001b[0mself\u001b[0m\u001b[0;34m.\u001b[0m\u001b[0mselected_row\u001b[0m \u001b[0;34m=\u001b[0m \u001b[0mself\u001b[0m\u001b[0;34m.\u001b[0m\u001b[0mdf\u001b[0m\u001b[0;34m.\u001b[0m\u001b[0miloc\u001b[0m\u001b[0;34m[\u001b[0m\u001b[0;34m[\u001b[0m\u001b[0mi\u001b[0m\u001b[0;34m]\u001b[0m\u001b[0;34m]\u001b[0m\u001b[0;34m\u001b[0m\u001b[0;34m\u001b[0m\u001b[0m\n\u001b[0;32m--> 205\u001b[0;31m             \u001b[0mself\u001b[0m\u001b[0;34m.\u001b[0m\u001b[0mload_data\u001b[0m\u001b[0;34m(\u001b[0m\u001b[0;34m)\u001b[0m\u001b[0;34m\u001b[0m\u001b[0;34m\u001b[0m\u001b[0m\n\u001b[0m\u001b[1;32m    206\u001b[0m             \u001b[0mself\u001b[0m\u001b[0;34m.\u001b[0m\u001b[0mpredict\u001b[0m\u001b[0;34m(\u001b[0m\u001b[0;34m)\u001b[0m\u001b[0;34m\u001b[0m\u001b[0;34m\u001b[0m\u001b[0m\n\u001b[1;32m    207\u001b[0m            \u001b[0;31m# precicion_value = None\u001b[0m\u001b[0;34m\u001b[0m\u001b[0;34m\u001b[0m\u001b[0;34m\u001b[0m\u001b[0m\n",
      "\u001b[0;32m~/work/Agroscope/imports/utils/visualization.py\u001b[0m in \u001b[0;36mload_data\u001b[0;34m(self)\u001b[0m\n\u001b[1;32m    136\u001b[0m         \u001b[0;32mif\u001b[0m \u001b[0mlen\u001b[0m\u001b[0;34m(\u001b[0m\u001b[0mself\u001b[0m\u001b[0;34m.\u001b[0m\u001b[0mselected_row\u001b[0m\u001b[0;34m)\u001b[0m \u001b[0;34m==\u001b[0m \u001b[0;36m0\u001b[0m\u001b[0;34m:\u001b[0m\u001b[0;34m\u001b[0m\u001b[0;34m\u001b[0m\u001b[0m\n\u001b[1;32m    137\u001b[0m             \u001b[0;32mraise\u001b[0m \u001b[0mValueError\u001b[0m\u001b[0;34m(\u001b[0m\u001b[0;34m'Image not found, index not in dataframe'\u001b[0m\u001b[0;34m)\u001b[0m\u001b[0;34m\u001b[0m\u001b[0;34m\u001b[0m\u001b[0m\n\u001b[0;32m--> 138\u001b[0;31m         \u001b[0mimg\u001b[0m\u001b[0;34m=\u001b[0m \u001b[0mimread\u001b[0m\u001b[0;34m(\u001b[0m\u001b[0mself\u001b[0m\u001b[0;34m.\u001b[0m\u001b[0mselected_row\u001b[0m\u001b[0;34m.\u001b[0m\u001b[0mimage_path\u001b[0m\u001b[0;34m.\u001b[0m\u001b[0mvalues\u001b[0m\u001b[0;34m[\u001b[0m\u001b[0;36m0\u001b[0m\u001b[0;34m]\u001b[0m\u001b[0;34m+\u001b[0m\u001b[0mself\u001b[0m\u001b[0;34m.\u001b[0m\u001b[0mselected_row\u001b[0m\u001b[0;34m.\u001b[0m\u001b[0mname\u001b[0m\u001b[0;34m.\u001b[0m\u001b[0mvalues\u001b[0m\u001b[0;34m[\u001b[0m\u001b[0;36m0\u001b[0m\u001b[0;34m]\u001b[0m\u001b[0;34m)\u001b[0m\u001b[0;34m\u001b[0m\u001b[0;34m\u001b[0m\u001b[0m\n\u001b[0m\u001b[1;32m    139\u001b[0m         \u001b[0;32mif\u001b[0m \u001b[0mself\u001b[0m\u001b[0;34m.\u001b[0m\u001b[0mmasktype\u001b[0m \u001b[0;34m==\u001b[0m \u001b[0;34m'hand'\u001b[0m\u001b[0;34m:\u001b[0m\u001b[0;34m\u001b[0m\u001b[0;34m\u001b[0m\u001b[0m\n\u001b[1;32m    140\u001b[0m             \u001b[0mmsk\u001b[0m \u001b[0;34m=\u001b[0m \u001b[0mimread\u001b[0m\u001b[0;34m(\u001b[0m\u001b[0mself\u001b[0m\u001b[0;34m.\u001b[0m\u001b[0mselected_row\u001b[0m\u001b[0;34m.\u001b[0m\u001b[0mmask_path\u001b[0m\u001b[0;34m.\u001b[0m\u001b[0mvalues\u001b[0m\u001b[0;34m[\u001b[0m\u001b[0;36m0\u001b[0m\u001b[0;34m]\u001b[0m\u001b[0;34m+\u001b[0m\u001b[0mself\u001b[0m\u001b[0;34m.\u001b[0m\u001b[0mselected_row\u001b[0m\u001b[0;34m.\u001b[0m\u001b[0mname\u001b[0m\u001b[0;34m.\u001b[0m\u001b[0mvalues\u001b[0m\u001b[0;34m[\u001b[0m\u001b[0;36m0\u001b[0m\u001b[0;34m]\u001b[0m\u001b[0;34m)\u001b[0m\u001b[0;34m\u001b[0m\u001b[0;34m\u001b[0m\u001b[0m\n",
      "\u001b[0;32m/opt/conda/lib/python3.6/site-packages/matplotlib/pyplot.py\u001b[0m in \u001b[0;36mimread\u001b[0;34m(*args, **kwargs)\u001b[0m\n\u001b[1;32m   2371\u001b[0m \u001b[0;34m@\u001b[0m\u001b[0mdocstring\u001b[0m\u001b[0;34m.\u001b[0m\u001b[0mcopy_dedent\u001b[0m\u001b[0;34m(\u001b[0m\u001b[0m_imread\u001b[0m\u001b[0;34m)\u001b[0m\u001b[0;34m\u001b[0m\u001b[0;34m\u001b[0m\u001b[0m\n\u001b[1;32m   2372\u001b[0m \u001b[0;32mdef\u001b[0m \u001b[0mimread\u001b[0m\u001b[0;34m(\u001b[0m\u001b[0;34m*\u001b[0m\u001b[0margs\u001b[0m\u001b[0;34m,\u001b[0m \u001b[0;34m**\u001b[0m\u001b[0mkwargs\u001b[0m\u001b[0;34m)\u001b[0m\u001b[0;34m:\u001b[0m\u001b[0;34m\u001b[0m\u001b[0;34m\u001b[0m\u001b[0m\n\u001b[0;32m-> 2373\u001b[0;31m     \u001b[0;32mreturn\u001b[0m \u001b[0m_imread\u001b[0m\u001b[0;34m(\u001b[0m\u001b[0;34m*\u001b[0m\u001b[0margs\u001b[0m\u001b[0;34m,\u001b[0m \u001b[0;34m**\u001b[0m\u001b[0mkwargs\u001b[0m\u001b[0;34m)\u001b[0m\u001b[0;34m\u001b[0m\u001b[0;34m\u001b[0m\u001b[0m\n\u001b[0m\u001b[1;32m   2374\u001b[0m \u001b[0;34m\u001b[0m\u001b[0m\n\u001b[1;32m   2375\u001b[0m \u001b[0;34m\u001b[0m\u001b[0m\n",
      "\u001b[0;32m/opt/conda/lib/python3.6/site-packages/matplotlib/image.py\u001b[0m in \u001b[0;36mimread\u001b[0;34m(fname, format)\u001b[0m\n\u001b[1;32m   1375\u001b[0m         \u001b[0;32melse\u001b[0m\u001b[0;34m:\u001b[0m\u001b[0;34m\u001b[0m\u001b[0;34m\u001b[0m\u001b[0m\n\u001b[1;32m   1376\u001b[0m             \u001b[0;32mwith\u001b[0m \u001b[0mopen\u001b[0m\u001b[0;34m(\u001b[0m\u001b[0mfname\u001b[0m\u001b[0;34m,\u001b[0m \u001b[0;34m'rb'\u001b[0m\u001b[0;34m)\u001b[0m \u001b[0;32mas\u001b[0m \u001b[0mfd\u001b[0m\u001b[0;34m:\u001b[0m\u001b[0;34m\u001b[0m\u001b[0;34m\u001b[0m\u001b[0m\n\u001b[0;32m-> 1377\u001b[0;31m                 \u001b[0;32mreturn\u001b[0m \u001b[0mhandler\u001b[0m\u001b[0;34m(\u001b[0m\u001b[0mfd\u001b[0m\u001b[0;34m)\u001b[0m\u001b[0;34m\u001b[0m\u001b[0;34m\u001b[0m\u001b[0m\n\u001b[0m\u001b[1;32m   1378\u001b[0m     \u001b[0;32melse\u001b[0m\u001b[0;34m:\u001b[0m\u001b[0;34m\u001b[0m\u001b[0;34m\u001b[0m\u001b[0m\n\u001b[1;32m   1379\u001b[0m         \u001b[0;32mreturn\u001b[0m \u001b[0mhandler\u001b[0m\u001b[0;34m(\u001b[0m\u001b[0mfname\u001b[0m\u001b[0;34m)\u001b[0m\u001b[0;34m\u001b[0m\u001b[0;34m\u001b[0m\u001b[0m\n",
      "\u001b[0;31mKeyboardInterrupt\u001b[0m: "
     ]
    }
   ],
   "source": [
    "_ = ev.mean_average_precicion()"
   ]
  },
  {
   "cell_type": "markdown",
   "metadata": {},
   "source": [
    "### 2. Unet_Circle:"
   ]
  },
  {
   "cell_type": "code",
   "execution_count": null,
   "metadata": {},
   "outputs": [],
   "source": [
    "ev_params = {'df':test_df,\n",
    "             'model':unet_circle}\n",
    "eval_unet_mask = Evaluate(**ev_params)"
   ]
  },
  {
   "cell_type": "code",
   "execution_count": 76,
   "metadata": {},
   "outputs": [
    {
     "data": {
      "text/plain": [
       "0.90322095098287847"
      ]
     },
     "execution_count": 76,
     "metadata": {},
     "output_type": "execute_result"
    }
   ],
   "source": [
    "unet_circle_dice_min, unet_circle_dice_max, unet_circle_dice_avg = ev.get_dice_coeff(mode='simple')"
   ]
  },
  {
   "cell_type": "markdown",
   "metadata": {},
   "source": [
    "### Results:\n",
    "\n",
    "| Model | Dice-Coefficient | Root- Position Accuracy |\n",
    "|:------|------|--|\n",
    "|   UNet_Mask  | {{ unet_mask_dice_avg }} | unet1024_60epochs.h5 |\n",
    "|   UNet_Circle  | Unet- Model trained on Handlabeled Mask-Data 'train_df'| - |"
   ]
  },
  {
   "cell_type": "code",
   "execution_count": 30,
   "metadata": {},
   "outputs": [],
   "source": [
    "class User:\n",
    "    def __init__(self, name):\n",
    "        self.name = name\n",
    "        self.age = None\n",
    "    \n",
    "    def set_age(self,age):\n",
    "        self.age = age\n",
    "        \n",
    "    def print_age(self):\n",
    "        print(\"Age of \" + self.name + \": \" + str(self.age))\n",
    " \n",
    "    def printName(self):\n",
    "        print(\"Name  = \" + self.name)"
   ]
  },
  {
   "cell_type": "code",
   "execution_count": 31,
   "metadata": {},
   "outputs": [],
   "source": [
    "class Programmer(User):\n",
    "    def __init__(self, name):\n",
    "        self.name = name\n",
    " \n",
    "    def doPython(self):\n",
    "        print(\"Programming Python\")"
   ]
  },
  {
   "cell_type": "code",
   "execution_count": 33,
   "metadata": {},
   "outputs": [
    {
     "name": "stdout",
     "output_type": "stream",
     "text": [
      "Age of sepp: 1\n",
      "Age of toni: 10\n"
     ]
    }
   ],
   "source": [
    "sepp = User('sepp')\n",
    "toni = Programmer('toni')\n",
    "\n",
    "sepp.set_age(1)\n",
    "sepp.print_age()\n",
    "\n",
    "toni.set_age(10)\n",
    "toni.print_age()"
   ]
  },
  {
   "cell_type": "code",
   "execution_count": 61,
   "metadata": {},
   "outputs": [
    {
     "name": "stdout",
     "output_type": "stream",
     "text": [
      "../data/00_train_all/images/\n"
     ]
    }
   ],
   "source": [
    "tmp = None\n",
    "for i, r in test_df.iterrows():\n",
    "    tmp = r.iloc[0]\n",
    "    break\n",
    "print(tmp)"
   ]
  },
  {
   "cell_type": "code",
   "execution_count": null,
   "metadata": {},
   "outputs": [],
   "source": []
  }
 ],
 "metadata": {
  "kernelspec": {
   "display_name": "Python 3",
   "language": "python",
   "name": "python3"
  },
  "language_info": {
   "codemirror_mode": {
    "name": "ipython",
    "version": 3
   },
   "file_extension": ".py",
   "mimetype": "text/x-python",
   "name": "python",
   "nbconvert_exporter": "python",
   "pygments_lexer": "ipython3",
   "version": "3.6.7"
  }
 },
 "nbformat": 4,
 "nbformat_minor": 2
}
